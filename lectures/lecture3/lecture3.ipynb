{
 "cells": [
  {
   "cell_type": "code",
   "execution_count": null,
   "metadata": {
    "slideshow": {
     "slide_type": "skip"
    }
   },
   "outputs": [],
   "source": [
    "from traitlets.config.manager import BaseJSONConfigManager\n",
    "import jupyter_core\n",
    "# path = \"/Users/i.oseledets/anaconda2/envs/teaching/etc/jupyter/nbconfig\"\n",
    "cm = BaseJSONConfigManager(config_dir=path)\n",
    "cm.update(\"livereveal\", {\n",
    "              \"theme\": \"sky\",\n",
    "              \"transition\": \"zoom\",\n",
    "              \"start_slideshow_at\": \"selected\",\n",
    "               \"scroll\": True\n",
    "})\n"
   ]
  },
  {
   "cell_type": "markdown",
   "metadata": {
    "slideshow": {
     "slide_type": "slide"
    }
   },
   "source": [
    "# Лекция 3. Линейные системы"
   ]
  },
  {
   "cell_type": "markdown",
   "metadata": {
    "slideshow": {
     "slide_type": "slide"
    }
   },
   "source": [
    "## План \n",
    "\n",
    "- Линейные системы\n",
    "- Обратная матрица\n",
    "- Число обусловленности\n",
    "- Метод Гаусса (Gaussian elimination)"
   ]
  },
  {
   "cell_type": "markdown",
   "metadata": {
    "slideshow": {
     "slide_type": "slide"
    }
   },
   "source": [
    "## Линейные системы\n",
    "\n",
    "$$ Ax = f, $$\n",
    "\n",
    "где матрица $A$ и вектор $f$ известны.\n",
    "\n",
    "Задача решения системы линейных уравнений – одна из основных задач вычислительной линейной алгебры.\n",
    "\n",
    "Она возникает при решении следующих задач:\n",
    "\n",
    "- задача линейной регрессии\n",
    "- решение уравнений в частных производных и интегральных уравнений\n",
    "- задачи нелинейной регрессии\n",
    "- задачи оптимизации (методы Ньютона-Рафсона и Гаусса-Ньютона, условия ККТ)"
   ]
  },
  {
   "cell_type": "markdown",
   "metadata": {
    "slideshow": {
     "slide_type": "slide"
    }
   },
   "source": [
    "## Пере- и недоопределённые линейные системы\n",
    "\n",
    "Если система $Au = f$ имеет\n",
    "- больше уравнений, чем неизвестных, она называется **переопределённой** (в общем случае не имеет решений)\n",
    "\n",
    "- меньше уравнений, чем неизвестных, она называется **недоопределённой** (решение неединственно, нужны дополнительные предположения чтобы гарантировать единственность решения)"
   ]
  },
  {
   "cell_type": "markdown",
   "metadata": {
    "slideshow": {
     "slide_type": "slide"
    }
   },
   "source": [
    "## Существование решений \n",
    "\n",
    "Решение системы линейных уравнений с квадратной матрицей $A$\n",
    "\n",
    "$$A u = f$$\n",
    "\n",
    "существует тогда и только тогда, когда \n",
    "* $\\det A \\ne 0$\n",
    "\n",
    "или\n",
    "\n",
    "* матрица $A$ имеет полный ранг."
   ]
  },
  {
   "cell_type": "markdown",
   "metadata": {
    "slideshow": {
     "slide_type": "slide"
    }
   },
   "source": [
    "## Шкала размерностей линейных систем \n",
    "\n",
    "В различных приложениях размерности линейных систем могут быть различны \n",
    "\n",
    "- Малая: $n \\leq 10^4$ (вся матрица помещается в память, **плотные матрицы**)\n",
    "- Средняя: $n = 10^4 - 10^6$ (обычно **разреженные** или **структурированные** матрицы)\n",
    "- Большая: $n = 10^8 - 10^9$ (обычно **разреженные** матрицы и параллельные вычисления)"
   ]
  },
  {
   "cell_type": "markdown",
   "metadata": {
    "slideshow": {
     "slide_type": "slide"
    }
   },
   "source": [
    "## Линейные системы могут быть большими\n",
    "\n",
    "Возьмём непрерывную задачу, дискретизуем её на сетке из $N$ элементов и получим линейную систему с матрицей $N\\times N$.  \n",
    "Пример сетки для самолёта Airbus A319\n",
    "(подробнее см. [GMSH website](http://geuz.org/gmsh/)).  \n",
    "<img src=\"./a319_4.png\" width=50%>\n",
    "\n",
    "Основная сложность в том, что такие системы очень большие: миллионы и миллиарды неизвестных!"
   ]
  },
  {
   "cell_type": "markdown",
   "metadata": {
    "slideshow": {
     "slide_type": "slide"
    }
   },
   "source": [
    "## Линейные системы могут быть структурированы\n",
    "\n",
    "- Хранение $N^2$ элементов матрицы невозможно уже для $N = 100000$.  \n",
    "\n",
    "**Q:** как работать с такими матрицами?  \n",
    "\n",
    "**A:** к счастью, такие матрицы чаще всего являются **структурированными** и требуют хранения $\\mathcal{O}(N)$ элементов.\n",
    "\n",
    "- Наиболее растространённый тип структурированных матриц – это разреженные матрицы: такие матрицы имеют только $\\mathcal{O}(N)$ не нулевых элементов!  \n",
    "\n",
    "- Пример (одна из самых известных матриц для $n = 5$):\n",
    "\n",
    "$$\n",
    "  \\begin{pmatrix}\n",
    "  2 & -1 & 0 & 0 & 0 \\\\\n",
    "  -1 & 2 & -1 & 0 & 0 \\\\\n",
    "  0 & -1 & 2 & -1 & 0 \\\\\n",
    "  0 & 0 &-1& 2 & -1  \\\\\n",
    "  0 & 0 & 0 & -1 & 2 \\\\\n",
    "  \\end{pmatrix}\n",
    "$$\n",
    "\n",
    "- По крайней мере можно хранить такие матрицы\n",
    "- Также можно умножать такие матрицы на вектор быстро\n",
    "- Но как решать линейные системы с такими матрицами?"
   ]
  },
  {
   "cell_type": "markdown",
   "metadata": {
    "slideshow": {
     "slide_type": "slide"
    }
   },
   "source": [
    "## Основные вопросы о линейных системах\n",
    "\n",
    "1. Какую точность мы можем получить от решения (из-за ошибок округления)?\n",
    "2. Как мы вычислим решение? (LU разложение, метод Гаусса)\n",
    "3. Какая сложность решения системы линейных уравнений?"
   ]
  },
  {
   "cell_type": "markdown",
   "metadata": {
    "slideshow": {
     "slide_type": "slide"
    }
   },
   "source": [
    "## Как решать линейные системы?\n",
    "\n",
    "**Важно**: забудьте о детерминантах и правиле Крамера (хотя они полезны для матриц $2 \\times 2$)!"
   ]
  },
  {
   "cell_type": "markdown",
   "metadata": {
    "slideshow": {
     "slide_type": "slide"
    }
   },
   "source": [
    "## Как решать линейные системы?\n",
    "\n",
    "Основной инструмент – исключение переменных. \n",
    "\n",
    "\\begin{align*}\n",
    "    &2 y + 3 x = 5 \\quad&\\longrightarrow \\quad &y = 5/2 -  3/2 x \\\\\n",
    "    &2 x + 3z = 5 \\quad&\\longrightarrow\\quad &z = 5/3 - 2/3 x\\\\\n",
    "    &x + y = 2 \\quad&\\longrightarrow\\quad  & 5/2 + 5/3 - (3/2 + 2/3) x = 2,\\\\\n",
    "\\end{align*}\n",
    "\n",
    "и так вы можете найти $x$ (и все остальные неизвестные).  \n",
    "\n",
    "Этот процесс называется **методов Гаусса** и является одним из самых часто используемых алгоритмов. "
   ]
  },
  {
   "cell_type": "markdown",
   "metadata": {
    "slideshow": {
     "slide_type": "slide"
    }
   },
   "source": [
    "## Метод Гаусса\n",
    "\n",
    "Метод Гаусса состоит из двух этапов:\n",
    "1. Проход вперёд\n",
    "2. Проход назад"
   ]
  },
  {
   "cell_type": "markdown",
   "metadata": {
    "slideshow": {
     "slide_type": "slide"
    }
   },
   "source": [
    "## Проход вперёд\n",
    "\n",
    "- Исключим $x_1$:\n",
    "\n",
    "$$\n",
    "   x_1 = f_1 - (a_{12} x_2 + \\ldots + a_{1n} x_n)/a_{11},\n",
    "$$\n",
    "\n",
    "и подставим в уравнения $2, \\ldots, n$. \n",
    "\n",
    "- Затем исключим $x_2$ и подставим в остальные уравнение.\n",
    "\n",
    "- Важно, что ведущий элемент (pivot), тот на который мы делим, не равен $0$."
   ]
  },
  {
   "cell_type": "markdown",
   "metadata": {
    "slideshow": {
     "slide_type": "slide"
    }
   },
   "source": [
    "## Проход назад\n",
    "\n",
    "Во время прохода назад:\n",
    "- решаем уравнение для $x_n$\n",
    "- подставляем решение в уравнение для $x_{n-1}$ и так далее, пока не вычислим все $x_i, i=1,\\ldots, n$."
   ]
  },
  {
   "cell_type": "markdown",
   "metadata": {
    "slideshow": {
     "slide_type": "slide"
    }
   },
   "source": [
    "## Метод Гаусса и LU разложение\n",
    "\n",
    "Метод Гаусса связан с вычислением одного из самых важных матричных разложений: **LU разложения**.\n",
    "\n",
    "**Определение**: LU разложение матрицы $A$ – это представление\n",
    "\n",
    "$$A =  LU,$$\n",
    "\n",
    "где $L$ – **нижнетреугольная** и $U$ – **верхнетреугольная** матрица.\n",
    "\n",
    "Это разложение **неединственно**, поэтому обычно требуют дополнительно, что на диагонали матрицы $L$ стоят 1."
   ]
  },
  {
   "cell_type": "markdown",
   "metadata": {
    "slideshow": {
     "slide_type": "slide"
    }
   },
   "source": [
    "**Основная цель** вычисления LU разложения – это решение системы линейных уравнений, поскольку\n",
    "\n",
    "$$\n",
    "    A^{-1} f = (L U)^{-1} f = U^{-1} L^{-1} f, \n",
    "$$\n",
    "\n",
    "и задача сводится к решению двух линейных систем с верхне- и нижнетреугольных матриц.\n",
    "\n",
    "Проход вперёд выражается в виде\n",
    "$$\n",
    "     L y = f, \n",
    "$$\n",
    "аналогично для прохода назад\n",
    "$$\n",
    "   U x = y.\n",
    "$$\n",
    "\n",
    "Всегда ли существует $LU$ разложение?"
   ]
  },
  {
   "cell_type": "markdown",
   "metadata": {
    "slideshow": {
     "slide_type": "slide"
    }
   },
   "source": [
    "## Сложность метода Гаусса/LU разложения\n",
    "\n",
    "- Каждый шаг исключения занимает $\\mathcal{O}(n^2)$ операций. \n",
    "\n",
    "- Таким образом, сложность алгоритма $\\mathcal{O}(n^3)$.  "
   ]
  },
  {
   "cell_type": "markdown",
   "metadata": {
    "slideshow": {
     "slide_type": "slide"
    }
   },
   "source": [
    "## Существование LU разложения\n",
    "\n",
    "Алгоритм вычисления LU разложения работает,\n",
    "\n",
    "если **мы не делим на $0$** на каждом шаге метода Гаусса.\n",
    "\n",
    "**Q:** Для какого класса матриц это так?\n",
    "\n",
    "**A:** Это так для **строго регулярных матриц**."
   ]
  },
  {
   "cell_type": "markdown",
   "metadata": {
    "slideshow": {
     "slide_type": "slide"
    }
   },
   "source": [
    "## Строго регулярные матрицы и LU разложение\n",
    "\n",
    "**Определение.** Матрица $A$ называется *строго регулярной*, если все лидирующие главные миноры (подматрицы из первых $k$ строк и $k$ столбцов) не вырождены. \n",
    "\n",
    "В этом случае LU разложение всегда существует. Обратное также верно (проверьте!)."
   ]
  },
  {
   "cell_type": "markdown",
   "metadata": {
    "slideshow": {
     "slide_type": "slide"
    }
   },
   "source": [
    "## LU разложение для положительно определённых Эрмитовых матриц (разложение Холецкого)\n",
    "\n",
    "Строго регулярные матрицы имеют LU разложение. \n",
    "\n",
    "Важный класс строго регулярных матриц – это класс **Эрмитовых положительно определённых матриц**\n",
    "\n",
    "**Определение.** Матрица $A$ называется <font color='red'> положительно определённой </font>, если для любого $x: \\Vert x \\Vert \\ne 0$ выполнено\n",
    "\n",
    "$$\n",
    "(x, Ax) > 0.\n",
    "$$\n",
    "- если это выполнено для $x \\in \\mathbb{C}^n$, тогда матрица $A$ эрмитова\n",
    "- если это выполнено для $x \\in \\mathbb{R}^n$, тогда матрица $A$ может быть несимметрична"
   ]
  },
  {
   "cell_type": "markdown",
   "metadata": {
    "slideshow": {
     "slide_type": "slide"
    }
   },
   "source": [
    "**Утверждение:** Эрмитова положительно определённая матрица $A$ строго регулярна и имеет разложение Холецкого вида\n",
    "\n",
    "$$A = RR^*,$$\n",
    "\n",
    "где $R$ нижнетреугольная матрица.\n",
    "\n",
    "Часто матрица $R$ называется \"квадратным корнем\" матрицы $A$. "
   ]
  },
  {
   "cell_type": "markdown",
   "metadata": {
    "slideshow": {
     "slide_type": "slide"
    }
   },
   "source": [
    "## Вычисление LU разложения\n",
    "\n",
    "Во многих случаях достаточно один раз вычислить LU разложение!\n",
    "\n",
    "Если такое разложение найдено (что требует $\\mathcal{O}(n^3)$ операций), тогда решение линейной системы сводится к решению линейных систем с матрицами $L$ и $U$, которые требуют $\\mathcal{O}(n^2)$ операций.\n",
    "\n",
    "**Упражнение:** Решение линейной системы с треугольной матрицей вычисляется быстро. Как вычислить $L$ и $U$?"
   ]
  },
  {
   "cell_type": "markdown",
   "metadata": {
    "slideshow": {
     "slide_type": "slide"
    }
   },
   "source": [
    "## Когда алгоритм вычисления LU разложения не работает\n",
    "\n",
    "- Что случится, если матрица не является строго регулярной (или ведущий элемент в методе Гаусса очень мал)?   \n",
    "\n",
    "- Классический пример матрицы $2 \\times 2$ с \"плохим\" LU разложением:\n",
    "\n",
    "$$\n",
    "    A = \\begin{pmatrix}\n",
    "    \\varepsilon & 1 \\\\\n",
    "    1 & 1 \n",
    "    \\end{pmatrix}\n",
    "$$\n",
    "\n",
    "- Если $\\varepsilon$ достаточно мал, мы можем встретиться с неустойчивостью. В то время как вычисление разложения Холецкого всегда устойчиво.\n",
    "\n",
    "Проверим это численно..."
   ]
  },
  {
   "cell_type": "code",
   "execution_count": 14,
   "metadata": {
    "slideshow": {
     "slide_type": "slide"
    }
   },
   "outputs": [
    {
     "name": "stdout",
     "output_type": "stream",
     "text": [
      "L * U - A:\n",
      " [[ 0.00000000e+00  0.00000000e+00]\n",
      " [-1.11022302e-16 -1.00000000e+00]]\n"
     ]
    },
    {
     "data": {
      "text/plain": [
       "array([[1.e+00, 0.e+00],\n",
       "       [1.e+18, 1.e+00]])"
      ]
     },
     "execution_count": 14,
     "metadata": {},
     "output_type": "execute_result"
    }
   ],
   "source": [
    "import numpy as np\n",
    "eps = 1e-18#1.12e-16\n",
    "a = [[eps, 1],[1.0,  1]]\n",
    "a = np.array(a)\n",
    "a0 = a.copy()\n",
    "n = a.shape[0]\n",
    "L = np.zeros((n, n))\n",
    "U = np.zeros((n, n))\n",
    "for k in range(n): #Eliminate one row   \n",
    "    L[k, k] = 1\n",
    "    for i in range(k+1, n):\n",
    "        L[i, k] = a[i, k] / a[k, k]\n",
    "        for j in range(k+1, n):\n",
    "            a[i, j] = a[i, j] - L[i, k] * a[k, j]\n",
    "    for j in range(k, n):\n",
    "        U[k, j] = a[k, j]\n",
    "\n",
    "print('L * U - A:\\n', np.dot(L, U) - a0)\n",
    "L"
   ]
  },
  {
   "cell_type": "markdown",
   "metadata": {
    "slideshow": {
     "slide_type": "slide"
    }
   },
   "source": [
    "## Выбор ведущего элемента (pivoting)\n",
    "\n",
    "Мы можем переставить строки и столбцы матрицы $A$ так, чтобы элемент $A_{kk}$, на который мы делим, был максимальным.  \n",
    "\n",
    "Простейшая, но эффективная стратегия – это выбор максимального элемента в строке: на каждом шаге выбираем элемент, который максимален по модулю и перемещаем его на диагональ.\n",
    "\n",
    "Это даёт следующее разложение \n",
    "\n",
    "$$A = P L U,$$\n",
    "\n",
    "где $P$ – это **матрица перестановки**.\n",
    "\n",
    "\n",
    "- Почему это хорошая стратегия?"
   ]
  },
  {
   "cell_type": "markdown",
   "metadata": {
    "slideshow": {
     "slide_type": "slide"
    }
   },
   "source": [
    "## Устойчивость линейных систем\n",
    "\n",
    "- Существует фундаментальная проблема с решением систем линейных уравнений, которая не зависит от используемого алгоритма.\n",
    "\n",
    "- Она проявляется, когда элементы матрицы представляются как числа с плавающей точкой или имеется некоторый шум в измерениях.\n",
    "\n",
    "Проиллюстрируем эту проблему на следующем примере."
   ]
  },
  {
   "cell_type": "code",
   "execution_count": 15,
   "metadata": {
    "slideshow": {
     "slide_type": "slide"
    }
   },
   "outputs": [
    {
     "name": "stdout",
     "output_type": "stream",
     "text": [
      "2.095164779214391\n"
     ]
    },
    {
     "data": {
      "text/plain": [
       "[<matplotlib.lines.Line2D at 0x12297b9e8>]"
      ]
     },
     "execution_count": 15,
     "metadata": {},
     "output_type": "execute_result"
    },
    {
     "data": {
      "image/png": "[encoded data removed]",
      "text/plain": [
       "<Figure size 432x288 with 1 Axes>"
      ]
     },
     "metadata": {},
     "output_type": "display_data"
    }
   ],
   "source": [
    "import numpy as np\n",
    "import matplotlib.pyplot as plt\n",
    "%matplotlib inline\n",
    "import seaborn as sns\n",
    "sns.set_style(\"whitegrid\")\n",
    "sns.set_context(\"talk\")\n",
    "n = 15\n",
    "a = [[1.0/(i + j + 1) for i in range(n)] for j in range(n)]\n",
    "a = np.array(a)\n",
    "rhs = np.random.randn(n) #Right-hand side\n",
    "x = np.linalg.solve(a, rhs) #This function computes LU-factorization and solves linear system\n",
    "\n",
    "#And check if everything is fine\n",
    "er = np.linalg.norm(a.dot(x) - rhs) / np.linalg.norm(rhs)\n",
    "print(er)\n",
    "plt.plot(x)"
   ]
  },
  {
   "cell_type": "markdown",
   "metadata": {
    "slideshow": {
     "slide_type": "slide"
    }
   },
   "source": [
    "## Линейные системы и обратная матрица\n",
    "\n",
    "- В чём проблема в предыдущем примере? \n",
    "\n",
    "- Почему ошибка растёт так быстро?  \n",
    "\n",
    "- И мы приходим к одному из главных понятий вычислительной линейной алгебры: числу обусловленности матрицы.  \n",
    "\n",
    "Но перед этим нам нужно определить **обратную матрицу**."
   ]
  },
  {
   "cell_type": "markdown",
   "metadata": {
    "slideshow": {
     "slide_type": "slide"
    }
   },
   "source": [
    "## Обратная матрица: определение\n",
    "\n",
    "Матрица, обратная к матрице $A$, это такая матрица $X$ что  \n",
    "\n",
    "$$\n",
    "   AX = XA = I, \n",
    "$$\n",
    "\n",
    "где $I$ – единичная матрица. Обратная матрица обозначается как $A^{-1}$.\n",
    "\n",
    "Вычисление обратной матрицы связано с решением линейной системы. В самом деле, $i$-ый столбец произведения даёт\n",
    "\n",
    "$$\n",
    "A x_i = e_i,\n",
    "$$\n",
    "\n",
    "где $e_i$ – $i$-ый столбец единичной матрицы. \n",
    "Таким образом, мы можем использовать метод Гаусса, чтобы решить эту систему.\n"
   ]
  },
  {
   "cell_type": "markdown",
   "metadata": {
    "slideshow": {
     "slide_type": "slide"
    }
   },
   "source": [
    "## Обратная матрица и линейные системы\n",
    "\n",
    "Если у нас есть обратная матрица $A^{-1}$, тогда решение линейной системы\n",
    "\n",
    "$$Ax = f$$\n",
    "\n",
    "выражается как $x = A^{-1} f$.  \n",
    "\n",
    "В самом деле,  \n",
    "\n",
    "$$   \n",
    "    A(A^{-1} f) = (AA^{-1})f = I f = f.\n",
    "$$"
   ]
  },
  {
   "cell_type": "markdown",
   "metadata": {
    "slideshow": {
     "slide_type": "slide"
    }
   },
   "source": [
    "## Ряд Неймана\n",
    "\n",
    "Для того чтобы выяснить, почему в решении была такая большая ошибка нам потребуется важный вспомогательный результат.  \n",
    "\n",
    "**Ряд Неймана**:  \n",
    "\n",
    "Если матрица $F$ такая что $\\Vert F \\Vert < 1$, тогда матрица $(I - F)$ обратима и\n",
    "\n",
    "$$(I - F)^{-1} = I + F + F^2 + F^3 + \\ldots = \\sum_{k=0}^{\\infty} F^k.$$\n",
    "\n",
    "Заметим, что это матричная версия выражения для суммы геометрической прогрессии. \n",
    "\n",
    "**Q**: какая норма тут используется? Какая норма \"самая лучшая\" в данном случае?"
   ]
  },
  {
   "cell_type": "markdown",
   "metadata": {
    "slideshow": {
     "slide_type": "slide"
    }
   },
   "source": [
    "## Доказательство\n",
    "\n",
    "Сначала докажем, что ряд $\\sum_{k=0}^{\\infty} F^k$ сходится.  \n",
    "\n",
    "Как и в скалярном случае выполнено\n",
    "$$\n",
    "   (I - F) \\sum_{k=0}^N F^k = (I - F^{N+1}) \\rightarrow I, \\quad N \\to +\\infty\n",
    "$$\n",
    "\n",
    "Действительно, \n",
    "$$\n",
    "\\| (I - F^{N+1}) - I\\| = \\|F^{N+1}\\| \\leqslant \\|F\\|^{N+1} \\to 0, \\quad N\\to +\\infty.\n",
    "$$\n",
    "\n",
    "Также можем оценить **норму обратной матрицы**:\n",
    "$$\n",
    "  \\left\\Vert \\sum_{k=0}^N F^k \\right\\Vert \\leq \\sum_{k=0}^N \\Vert F \\Vert^k \\Vert I \\Vert \\leq \\frac{\\Vert I \\Vert}{1 - \\Vert F \\Vert} \n",
    "$$"
   ]
  },
  {
   "cell_type": "markdown",
   "metadata": {
    "slideshow": {
     "slide_type": "slide"
    }
   },
   "source": [
    "## Малое возмущение обратной матрицы\n",
    "\n",
    "Используя этот результат, мы можем оценить как возмущение в элементах матрицы влияет на возмущение в элементах обратной матрицы. Предположим, что возмущение $E$ мало в том смысле, что $\\Vert A^{-1} E \\Vert < 1$. Тогда\n",
    "\n",
    "$$(A + E)^{-1} = \\sum_{k=0}^{\\infty} (-A^{-1} E)^k A^{-1}$$\n",
    "\n",
    "и более того, \n",
    "\n",
    "$$\n",
    "  \\frac{\\Vert (A + E)^{-1} - A^{-1} \\Vert}{\\Vert A^{-1} \\Vert} \\leq \\frac{\\Vert A^{-1} \\Vert \\Vert E \\Vert \\Vert I \\Vert}{1 - \\Vert A^{-1} E \\Vert}.\n",
    "$$\n",
    "\n",
    "Видно, что норма обратной матрицы входит в оценку."
   ]
  },
  {
   "cell_type": "markdown",
   "metadata": {
    "slideshow": {
     "slide_type": "slide"
    }
   },
   "source": [
    "## Число обусловленности линейной системы\n",
    "\n",
    "Рассмотрим **возмущённую** линейную систему:\n",
    "\n",
    "$$\n",
    "   (A + \\Delta A) \\widehat{x} = f + \\Delta f.\n",
    "$$"
   ]
  },
  {
   "cell_type": "markdown",
   "metadata": {
    "slideshow": {
     "slide_type": "slide"
    }
   },
   "source": [
    "## Оценки!\n",
    "\n",
    "$$\n",
    "\\begin{split}\n",
    "\\widehat{x} - x &= (A + \\Delta A)^{-1} (f + \\Delta f) - A^{-1} f =\\\\ \n",
    "&= \\left((A + \\Delta A)^{-1} - A^{-1}\\right)f + (A + \\Delta A)^{-1} \\Delta f = \\\\\n",
    "&= \\Big[\\sum_{k=0}^{\\infty} (-A^{-1} \\Delta A)^k\\Big] A^{-1} f + \\Big[\\sum_{k=0}^{\\infty} (A^{-1} \\Delta A)^k \\Big] A^{-1} \\Delta f,\n",
    "\\end{split}\n",
    "$$  \n",
    "поэтому\n",
    "$$\n",
    "\\begin{split}\n",
    "\\frac{\\Vert \\widehat{x} - x \\Vert}{\\Vert x \\Vert} \\leq \n",
    "&\\frac{\\Vert A \\Vert \\Vert A^{-1} \\Vert}{1 - \\|A^{-1}\\Delta A\\|} \\Big(\\frac{\\Vert\\Delta A\\Vert}{\\Vert A \\Vert} + \\frac{\\Vert \\Delta f \\Vert}{ \\Vert f \\Vert}\\Big) \\leq \\\\\n",
    "\\leq\n",
    "&\\frac{\\Vert A \\Vert \\Vert A^{-1} \\Vert}{1 - \\|A\\|\\|A^{-1}\\|\\frac{\\|\\Delta A\\|}{\\|A\\|}} \\Big(\\frac{\\Vert\\Delta A\\Vert}{\\Vert A \\Vert} + \\frac{\\Vert \\Delta f \\Vert}{ \\Vert f \\Vert}\\Big) \\equiv \\\\\n",
    "\\equiv &\\frac{\\mathrm{cond}(A)}{1 - \\mathrm{cond}(A)\\frac{\\|\\Delta A\\|}{\\|A\\|}} \\Big(\\frac{\\Vert\\Delta A\\Vert}{\\Vert A \\Vert} + \\frac{\\Vert \\Delta f \\Vert}{ \\Vert f \\Vert}\\Big)\n",
    "\\end{split}\n",
    "$$\n",
    "\n",
    "Главную роль играет **число обусловленности** матрицы $A$: $\\mathrm{cond}(A) = \\Vert A \\Vert \\Vert A^{-1} \\Vert$."
   ]
  },
  {
   "cell_type": "markdown",
   "metadata": {
    "slideshow": {
     "slide_type": "slide"
    }
   },
   "source": [
    "## Число обусловленности\n",
    "\n",
    "- Чем больше число обусловленности, тем меньше цифр в записи числа мы можем правильно восстановить. \n",
    "- Число обусловленности разное для разных норм.\n",
    "- Для спектральной нормы выполнено (проверьте!) $\\mathrm{cond}_2 (A) = \\|A\\|_2 \\|A^{-1}\\|_2 = \\frac{\\sigma_{\\max}}{\\sigma_{\\min}}$\n",
    "- Заметим, что если $\\Delta A = 0$, тогда\n",
    "\n",
    "$$\n",
    "\\frac{\\Vert \\widehat{x} - x \\Vert}{\\Vert x \\Vert} \\leq \\mathrm{cond}(A) \\frac{\\|\\Delta f\\|}{\\|f\\|}\n",
    "$$"
   ]
  },
  {
   "cell_type": "markdown",
   "metadata": {
    "slideshow": {
     "slide_type": "slide"
    }
   },
   "source": [
    "## И снова матрица Гильберта \n",
    "\n",
    "- Проверим насколько оценка точная в обоих случаях: единичная правая часть и случайная правая часть (вспомните пример с прошлой лекции!)\n",
    "- Результаты существенно отличаются!"
   ]
  },
  {
   "cell_type": "code",
   "execution_count": 16,
   "metadata": {
    "slideshow": {
     "slide_type": "slide"
    }
   },
   "outputs": [
    {
     "name": "stdout",
     "output_type": "stream",
     "text": [
      "Error: 2.217472233227586e-06 Condition number: 4.492167979846466e+20\n"
     ]
    }
   ],
   "source": [
    "import numpy as np\n",
    "import matplotlib.pyplot as plt\n",
    "%matplotlib inline\n",
    "\n",
    "\n",
    "n = 1000\n",
    "a = [[1.0/(i + j + 1) for i in range(n)] for j in range(n)]\n",
    "a = np.array(a)\n",
    "rhs = np.ones(n) #Right-hand side\n",
    "f = np.linalg.solve(a, rhs)\n",
    "\n",
    "#And check if everything is fine\n",
    "er = np.linalg.norm(a.dot(f) - rhs) / np.linalg.norm(rhs)\n",
    "cn = np.linalg.cond(a, 2)\n",
    "print('Error:', er, 'Condition number:', cn)"
   ]
  },
  {
   "cell_type": "code",
   "execution_count": 17,
   "metadata": {
    "slideshow": {
     "slide_type": "slide"
    }
   },
   "outputs": [
    {
     "name": "stdout",
     "output_type": "stream",
     "text": [
      "Error: 9.698022727227913 Condition number: 4.073996146476839e+19\n"
     ]
    },
    {
     "data": {
      "text/plain": [
       "[<matplotlib.lines.Line2D at 0x122d00048>]"
      ]
     },
     "execution_count": 17,
     "metadata": {},
     "output_type": "execute_result"
    },
    {
     "data": {
      "image/png": "[encoded data removed]",
      "text/plain": [
       "<Figure size 432x288 with 1 Axes>"
      ]
     },
     "metadata": {
      "needs_background": "light"
     },
     "output_type": "display_data"
    }
   ],
   "source": [
    "import numpy as np\n",
    "import matplotlib.pyplot as plt\n",
    "%matplotlib inline\n",
    "\n",
    "n = 100\n",
    "a = [[1.0/(i + j + 1) for i in range(n)] for j in range(n)]\n",
    "a = np.array(a)\n",
    "rhs = np.random.randn(n) #Right-hand side\n",
    "f = np.linalg.solve(a, rhs)\n",
    "\n",
    "#And check if everything is fine\n",
    "er = np.linalg.norm(a.dot(f) - rhs) / np.linalg.norm(rhs)\n",
    "cn = np.linalg.cond(a)\n",
    "print('Error:', er, 'Condition number:', cn)\n",
    "\n",
    "u, s, v = np.linalg.svd(a)\n",
    "rhs = np.random.randn(n)\n",
    "plt.plot(u.T.dot(rhs))"
   ]
  },
  {
   "cell_type": "markdown",
   "metadata": {
    "slideshow": {
     "slide_type": "slide"
    }
   },
   "source": [
    "### Как это объяснить?"
   ]
  },
  {
   "cell_type": "markdown",
   "metadata": {
    "slideshow": {
     "slide_type": "slide"
    }
   },
   "source": [
    "## Переопределённые линейные системы\n",
    "\n",
    "- Рассмотрим переопределённые линейные системы, в которых число уравнений больше, чем число неизвестных.\n",
    "- Простейший пример: аппроксимация точек на плоскости с помощью линейной модели\n",
    "\n",
    "Стандартный способ минимизации невязки (**линейная задача наименьших квадратов**)\n",
    "\n",
    "$$\\Vert A x - b \\Vert_2 \\rightarrow \\min$$"
   ]
  },
  {
   "cell_type": "markdown",
   "metadata": {
    "slideshow": {
     "slide_type": "slide"
    }
   },
   "source": [
    "## Переопределённая система и матрица Грама\n",
    "\n",
    "Условие оптимальности $0\\equiv \\nabla \\left(\\|Ax-b\\|_2^2\\right)$, где $\\nabla$ обозначает градиент. Поэтому,\n",
    "\n",
    "$$\n",
    "0 \\equiv \\nabla \\left(\\|Ax-b\\|_2^2\\right) = 2(A^*A x - A^*b) = 0.\n",
    "$$\n",
    "\n",
    "Таким образом,\n",
    "\n",
    "$$\n",
    "A^* A x = A^* b\n",
    "$$\n",
    "\n",
    "Матрица $A^* A$ называется **матрицей Грама**, а система называется **нормальным уравнением**. \n",
    "\n",
    "- Число обусловленности матрицы $A^* A$ равно квадрату числа обусловленности матрицы $A$ (проверьте!).\n",
    "- Поэтому решать нормальное уравнение в таком виде – не самая хорошая идея!"
   ]
  },
  {
   "cell_type": "markdown",
   "metadata": {
    "slideshow": {
     "slide_type": "slide"
    }
   },
   "source": [
    "## Псевдообратная матрица\n",
    "\n",
    "Матрица $A^* A$ может быть вырождена в общем случае (почему?).\n",
    "Поэтому, необходимо ввести понятие псевдообратной матрицы  $A^{\\dagger}$ такой что <br>\n",
    "решение линейной задачи наименьших квадратов можно было записать в виде\n",
    "\n",
    "$$x = A^{\\dagger} b.$$\n",
    "\n",
    "Матрица $$A^{\\dagger} = \\lim_{\\alpha \\rightarrow 0}(\\alpha I + A^* A)^{-1} A^*$$ называется псевдообратной матрицей Мура-Пенроуза для матрицы $A$.\n",
    "\n",
    "* Если матрица $A$ имеет полный ранг, тогда $A^* A$ невырождена, и мы получим $A^{\\dagger} = \\lim_{\\alpha \\rightarrow 0}(\\alpha I + A^* A)^{-1} A^* = (A^* A)^{-1} A^*$.\n",
    "\n",
    "* Если матрица $A$ квадратная и невырожденная, мы получим $A^{\\dagger} = \\lim_{\\alpha \\rightarrow 0}(\\alpha I + A^* A)^{-1} A^* = (A^* A)^{-1} A^* = A^{-1} A^{-*} A^* = A^{-1}$ – обычная обратная матрица для $A$\n",
    "\n",
    "* Если $A$ имеет линейно зависимые столбцы, тогда $A^\\dagger b$ даёт решение минимальной евклидовой нормы. "
   ]
  },
  {
   "cell_type": "markdown",
   "metadata": {
    "slideshow": {
     "slide_type": "slide"
    }
   },
   "source": [
    "## Вычисление псевдообратной матрицы с помощью SVD\n",
    "\n",
    "Пусть $A = U \\Sigma V^*$ SVD для матрицы $A$. Тогда,\n",
    "\n",
    "$$A^{\\dagger} = V \\Sigma^{\\dagger} U^*,$$\n",
    "\n",
    "где $\\Sigma^{\\dagger}$ состоит из обращённых ненулевых сингулярных чисел матрицы $A$. Действительно,\n",
    "\n",
    "$$A^{\\dagger} = \\lim_{\\alpha \\rightarrow 0}(\\alpha I + A^* A)^{-1} A^* = \\lim_{\\alpha \\rightarrow 0}( \\alpha VV^* + V \\Sigma^2 V^*)^{-1} V \\Sigma U^* = \\lim_{\\alpha \\rightarrow 0}( V(\\alpha I + \\Sigma^2) V^*)^{-1} V \\Sigma U^* = V \\lim_{\\alpha \\rightarrow 0}(\\alpha I + \\Sigma^2)^{-1} \\Sigma U^* = V \\Sigma^{\\dagger} U^*,$$\n",
    "\n",
    "* Вы можете проверить, что $\\Sigma^{\\dagger}$ состоит из обращённых ненулевых сингулярных чисел <br>\n",
    "* Если сингулярные числа малы, их можно не обращать. Это даст решение менее чувствительное к шуму в правой части\n",
    "\n",
    "**Q:** что произошло с числом обусловленности?"
   ]
  },
  {
   "cell_type": "markdown",
   "metadata": {
    "slideshow": {
     "slide_type": "slide"
    }
   },
   "source": [
    "## Стандартный способ решения линейной задачи наименьших квадратов\n",
    "\n",
    "Использование $QR$ разложения.\n",
    "\n",
    "Любая матрица может быть представлена в виде \n",
    "\n",
    "$$\n",
    "A = Q R,\n",
    "$$\n",
    "где $Q$ – унитарная матрица, и $R$ – верхнетреугольная.\n",
    "\n",
    "Тогда, если $A$ имеет полный ранг, тогда\n",
    "\n",
    "$$\n",
    "x = A^{\\dagger}b = (A^*A)^{-1}A^*b = ((QR)^*(QR))^{-1}(QR)^*b = (R^*Q^*QR)^{-1}R^*Q^*b = R^{-1}Q^*b. \n",
    "$$ \n",
    "\n",
    "Таким образом, задача поиска оптимального $x$ эквивалентна решению следующей квадратной системы \n",
    "\n",
    "$$\n",
    "Rx = Q^* b.\n",
    "$$\n",
    "\n",
    "Так как $R$ верхнетреугольная, решение этой системы требует $\\mathcal{O}(n^2)$ операций. Также этот способ более устойчив, чем использование псевдообратной матрицы напрямую."
   ]
  },
  {
   "cell_type": "markdown",
   "metadata": {
    "slideshow": {
     "slide_type": "slide"
    }
   },
   "source": [
    "## Пример линейной задачи наименьших квадратов\n",
    "\n",
    "Рассмотрим двумерный пример. Пусть дана линейная модель \n",
    "\n",
    "$$y = ax + b$$\n",
    "\n",
    "и зашумлённые данные $(x_1, y_1), \\dots (x_n, y_n)$. Тогда линейная система на коэффициенты будет выглядеть как \n",
    "\n",
    "$$\n",
    "\\begin{split}\n",
    "a x_1 &+ b &= y_1 \\\\\n",
    "&\\vdots \\\\\n",
    "a x_n &+ b &= y_n \\\\\n",
    "\\end{split}\n",
    "$$\n",
    "или в матричном виде\n",
    "$$\n",
    "\\begin{pmatrix}\n",
    "x_1 & 1 \\\\\n",
    "\\vdots & \\vdots \\\\\n",
    "x_n & 1 \\\\\n",
    "\\end{pmatrix}\n",
    "\\begin{pmatrix}\n",
    "a \\\\\n",
    "b\n",
    "\\end{pmatrix} =\n",
    "\\begin{pmatrix}\n",
    "y_1 \\\\\n",
    "\\vdots  \\\\\n",
    "y_n \\\\\n",
    "\\end{pmatrix},\n",
    "$$\n",
    "что является переопределённой системой"
   ]
  },
  {
   "cell_type": "code",
   "execution_count": 18,
   "metadata": {
    "slideshow": {
     "slide_type": "slide"
    }
   },
   "outputs": [
    {
     "data": {
      "text/plain": [
       "<matplotlib.legend.Legend at 0x123548668>"
      ]
     },
     "execution_count": 18,
     "metadata": {},
     "output_type": "execute_result"
    },
    {
     "data": {
      "image/png": "[encoded data removed]",
      "text/plain": [
       "<Figure size 432x288 with 1 Axes>"
      ]
     },
     "metadata": {
      "needs_background": "light"
     },
     "output_type": "display_data"
    }
   ],
   "source": [
    "%matplotlib inline\n",
    "import numpy as np\n",
    "import matplotlib.pyplot as plt\n",
    "\n",
    "a_exact = 1.\n",
    "b_exact = 2.\n",
    "\n",
    "n = 10\n",
    "xi = np.arange(n)\n",
    "yi = a_exact * xi + b_exact + 2*np.random.random(n)\n",
    "\n",
    "A = np.array([xi, np.ones(n)])\n",
    "coef = np.linalg.pinv(A).T.dot(yi) # coef is [a, b]\n",
    "\n",
    "plt.plot(xi, yi, 'o', label='$(x_i, y_i)$')\n",
    "plt.plot(xi, coef[0]*xi + coef[1], label='Least Squares')\n",
    "plt.legend(loc='best')"
   ]
  },
  {
   "cell_type": "markdown",
   "metadata": {
    "slideshow": {
     "slide_type": "slide"
    }
   },
   "source": [
    "## Главное в этой лекции\n",
    "\n",
    "- Линейные системы можно решать методом Гаусса, сложность – $\\mathcal{O}(n^3)$.\n",
    "- Линейные системы можно решать с помощью LU разложения, сложность – $\\mathcal{O}(n^3)$ для разложения, и  $\\mathcal{O}(n^2)$ для каждой правой части\n",
    "- Линейная заадча наименьших квадратов может быть решена с помощью решения нормального уравнения (плохая идея!)\n",
    "- Линейная заадча наименьших квадратов может быть решена с помощью QR разложения (стандартный подход)"
   ]
  }
 ],
 "metadata": {
  "celltoolbar": "Slideshow",
  "kernelspec": {
   "display_name": "Python 3",
   "language": "python",
   "name": "python3"
  },
  "language_info": {
   "codemirror_mode": {
    "name": "ipython",
    "version": 3
   },
   "file_extension": ".py",
   "mimetype": "text/x-python",
   "name": "python",
   "nbconvert_exporter": "python",
   "pygments_lexer": "ipython3",
   "version": "3.7.7"
  }
 },
 "nbformat": 4,
 "nbformat_minor": 4
}
