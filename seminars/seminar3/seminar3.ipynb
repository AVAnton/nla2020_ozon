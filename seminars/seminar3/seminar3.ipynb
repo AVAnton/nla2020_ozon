{
 "cells": [
  {
   "cell_type": "markdown",
   "metadata": {
    "slideshow": {
     "slide_type": "slide"
    }
   },
   "source": [
    "# Семинар 3\n",
    "\n",
    "## Линейная задача наименьших квадратов, решение линейных систем и QR разложение"
   ]
  },
  {
   "cell_type": "markdown",
   "metadata": {
    "slideshow": {
     "slide_type": "slide"
    }
   },
   "source": [
    "## Кластеризация и матричные разложения\n",
    "\n",
    "- Задача кластеризации относится к классу задач обучения без учителя, в которой требуется разбить наборы объектов на группы, в которых содержатся похожие объекты\n",
    "\n",
    "<img src=\"./clustering_demo.png\">\n",
    "\n",
    "Картинка из [этого](https://towardsdatascience.com/semantic-similarity-classifier-and-clustering-sentences-based-on-semantic-similarity-a5a564e22304) поста.\n",
    "\n",
    "- Отличие от классификации - меток объектов нет\n",
    "- Классический алгоритм решения такой задачи называется *k-means* или метод $k$-средних"
   ]
  },
  {
   "cell_type": "markdown",
   "metadata": {
    "slideshow": {
     "slide_type": "slide"
    }
   },
   "source": [
    "### $k$-means\n",
    "\n",
    "- Выбираем число кластеров $k$\n",
    "- Выбираем так называемые центры кластеров\n",
    "- Повторяем до сходимости\n",
    "    - Размечаем объекты на основании того, к какому центру они ближе\n",
    "    - Обновляем центр как среднее значение точек из каждого кластера\n",
    "\n",
    "- Подробности будут в курсе по машинному обучению"
   ]
  },
  {
   "cell_type": "markdown",
   "metadata": {
    "slideshow": {
     "slide_type": "slide"
    }
   },
   "source": [
    "### Визуализация\n",
    "\n",
    "<img width=400 src=\"./K-means_convergence.gif\">"
   ]
  },
  {
   "cell_type": "markdown",
   "metadata": {
    "slideshow": {
     "slide_type": "slide"
    }
   },
   "source": [
    "### Причём тут матричные разложения?\n",
    "\n",
    "- Пусть дано $N$ объектов, каждый из которых описывается $n$ числами.\n",
    "- Данные $N$ объектов уложены по столбцам в матрицу $X$\n",
    "- **Утверждение.** Алгоритм $k$-means решает следующую задачу оптимизации\n",
    "\n",
    "$$ \\| X - ZC\\|^2_F \\to \\min, $$\n",
    " \n",
    "где $X \\in \\mathbb{R}^{n \\times N}$, $Z \\in \\mathbb{R}^{n \\times k}$ и $C$ размера $k \\times N$\n",
    "- Матрица $C$ обладает следующим свойством\n",
    "\n",
    "$$ C_{ij} = \\begin{cases} 1, & x_j \\in \\mathcal{C}_i \\\\ 0, & \\text{иначе}, \\end{cases} $$\n",
    "\n",
    "где $\\mathcal{C}_i$ обозначает $i$-ый кластер, а $x_j$ – $j$-ый объект.\n",
    "\n",
    "- В каждом столбце матрицы $C$ ровно одна 1\n",
    "\n",
    "**Q:** что такое матрица $Z$?\n",
    "\n",
    "**Q:** какая интерпретация у столбцов матрицы $X - ZC$?"
   ]
  },
  {
   "cell_type": "markdown",
   "metadata": {
    "slideshow": {
     "slide_type": "slide"
    }
   },
   "source": [
    "## Постановка линейной задачи наименьших квадратов: напоминание\n",
    "\n",
    "- Дана переопределённая система линейных уравнений с матрицей $A$, в которой строк больше, чем столбцов, и правой частью $b$\n",
    "- Задача решения такой системы в смысле наименьших квадратов записывается в виде\n",
    "\n",
    "\n",
    "$$\\Vert A x - b \\Vert_2 \\rightarrow \\min_{x}$$\n",
    "\n",
    "- Нормальное уравнение\n",
    "\n",
    "$$ A^* A x = A^* b $$"
   ]
  },
  {
   "cell_type": "markdown",
   "metadata": {
    "slideshow": {
     "slide_type": "slide"
    }
   },
   "source": [
    "## Решение и метод вычисления\n",
    "\n",
    "- Псевдообратная матрица \n",
    "\n",
    "$$A^{\\dagger} = \\lim_{\\alpha \\rightarrow 0}(\\alpha I + A^* A)^{-1} A^*$$ \n",
    "\n",
    "- Решение записывается как \n",
    "\n",
    "$$ x = A^{\\dagger}b $$\n",
    "\n",
    "- Вычисление псевдообратной матрицы из SVD\n",
    "\n",
    "    Пусть $A = U \\Sigma V^*$ SVD матрицы $A$. Тогда,\n",
    "\n",
    "    $$A^{\\dagger} = V \\Sigma^{\\dagger} U^*,$$\n",
    "\n",
    "    где $\\Sigma^{\\dagger}$ состоит из обращённых ненулевых сингулярных чисел матрицы $A$.\n",
    "\n",
    "- Решение вычисляется с помощью QR разложения матрицы $A$\n",
    "\n",
    "$$\n",
    "Rx = Q^* b.\n",
    "$$"
   ]
  },
  {
   "cell_type": "markdown",
   "metadata": {
    "slideshow": {
     "slide_type": "slide"
    }
   },
   "source": [
    "### Сравнение методов решения нормального уравнения\n",
    "\n",
    "- Метод Гаусса\n",
    "- QR разложение"
   ]
  },
  {
   "cell_type": "code",
   "execution_count": 2,
   "metadata": {
    "slideshow": {
     "slide_type": "slide"
    }
   },
   "outputs": [],
   "source": [
    "import numpy as np\n",
    "import scipy.linalg as splin\n",
    "\n",
    "def lsqr_solver(A, b):\n",
    "    Q, R = np.linalg.qr(A)\n",
    "    return splin.solve_triangular(R, Q.T @ b, lower=False)\n",
    "#     return np.linalg.solve(R, Q.T @ b)\n",
    "\n",
    "def ls_gramm_solver(A, b):\n",
    "    gram_mat = A.T @ A\n",
    "    return np.linalg.solve(gram_mat, A.T @ b)"
   ]
  },
  {
   "cell_type": "code",
   "execution_count": 3,
   "metadata": {
    "slideshow": {
     "slide_type": "slide"
    }
   },
   "outputs": [
    {
     "name": "stdout",
     "output_type": "stream",
     "text": [
      "0.09545377005033609\n",
      "0.09545377005033258\n"
     ]
    }
   ],
   "source": [
    "n = 1000\n",
    "m = 10*n\n",
    "A = np.random.randn(m, n)\n",
    "x_true = np.random.randn(n)\n",
    "b = A @ x_true + 0.001 * np.random.randn(m)\n",
    "x = lsqr_solver(A, b)\n",
    "print(np.linalg.norm(A @ x - b))\n",
    "x = ls_gramm_solver(A, b)\n",
    "print(np.linalg.norm(A @ x - b))"
   ]
  },
  {
   "cell_type": "code",
   "execution_count": 4,
   "metadata": {
    "slideshow": {
     "slide_type": "slide"
    }
   },
   "outputs": [],
   "source": [
    "dim_range = [10**i for i in range(1, 4)]\n",
    "time_qr_range = []\n",
    "time_gram_range = []\n",
    "for n in dim_range:\n",
    "    m = 10*n\n",
    "    A = np.random.randn(m, n)\n",
    "    x_true = np.random.randn(n)\n",
    "    b = A @ x_true + 0.01 * np.random.randn(m)\n",
    "    t = %timeit -o -q -r 1 lsqr_solver(A, b) \n",
    "    time_qr_range.append(t.best)\n",
    "    t = %timeit -o -q -r 1 ls_gramm_solver(A, b)\n",
    "    time_gram_range.append(t.best)"
   ]
  },
  {
   "cell_type": "code",
   "execution_count": 5,
   "metadata": {
    "slideshow": {
     "slide_type": "slide"
    }
   },
   "outputs": [
    {
     "data": {
      "image/png": "[encoded data removed]",
      "text/plain": [
       "<Figure size 432x288 with 1 Axes>"
      ]
     },
     "metadata": {
      "needs_background": "light"
     },
     "output_type": "display_data"
    }
   ],
   "source": [
    "import matplotlib.pyplot as plt\n",
    "%matplotlib inline\n",
    "\n",
    "plt.plot(dim_range, time_qr_range, label=\"QR\")\n",
    "plt.plot(dim_range, time_gram_range, label=\"Gram matrix\")\n",
    "plt.legend(fontsize=20)\n",
    "plt.xlabel(\"Dimension\", fontsize=20)\n",
    "plt.ylabel(\"Time\", fontsize=20)\n",
    "plt.yscale(\"log\")\n",
    "plt.xscale(\"log\")"
   ]
  },
  {
   "cell_type": "markdown",
   "metadata": {
    "slideshow": {
     "slide_type": "slide"
    }
   },
   "source": [
    "### Свойства псевдообратной матрицы\n",
    "\n",
    "- $A = AA^{\\dagger}A$\n",
    "- $A^{\\dagger} = A^{\\dagger}A A^{\\dagger}$"
   ]
  },
  {
   "cell_type": "markdown",
   "metadata": {
    "slideshow": {
     "slide_type": "slide"
    }
   },
   "source": [
    "### Закон Мура\n",
    "\n",
    "- Количество транзизисторов на интегральной схеме удваивается каждые полтора-два года"
   ]
  },
  {
   "cell_type": "code",
   "execution_count": 6,
   "metadata": {
    "slideshow": {
     "slide_type": "slide"
    }
   },
   "outputs": [
    {
     "data": {
      "text/html": [
       "<div>\n",
       "<style scoped>\n",
       "    .dataframe tbody tr th:only-of-type {\n",
       "        vertical-align: middle;\n",
       "    }\n",
       "\n",
       "    .dataframe tbody tr th {\n",
       "        vertical-align: top;\n",
       "    }\n",
       "\n",
       "    .dataframe thead th {\n",
       "        text-align: right;\n",
       "    }\n",
       "</style>\n",
       "<table border=\"1\" class=\"dataframe\">\n",
       "  <thead>\n",
       "    <tr style=\"text-align: right;\">\n",
       "      <th></th>\n",
       "      <th>1971</th>\n",
       "      <th>1972</th>\n",
       "      <th>1974</th>\n",
       "      <th>1978</th>\n",
       "      <th>1982</th>\n",
       "      <th>1985</th>\n",
       "      <th>1989</th>\n",
       "      <th>1993</th>\n",
       "      <th>1997</th>\n",
       "      <th>1999</th>\n",
       "      <th>2000</th>\n",
       "      <th>2002</th>\n",
       "      <th>2003</th>\n",
       "    </tr>\n",
       "  </thead>\n",
       "  <tbody>\n",
       "    <tr>\n",
       "      <th>0</th>\n",
       "      <td>2250</td>\n",
       "      <td>2500</td>\n",
       "      <td>5000</td>\n",
       "      <td>29000</td>\n",
       "      <td>120000</td>\n",
       "      <td>275000</td>\n",
       "      <td>1180000</td>\n",
       "      <td>3100000</td>\n",
       "      <td>7500000</td>\n",
       "      <td>24000000</td>\n",
       "      <td>42000000</td>\n",
       "      <td>220000000</td>\n",
       "      <td>410000000</td>\n",
       "    </tr>\n",
       "  </tbody>\n",
       "</table>\n",
       "</div>"
      ],
      "text/plain": [
       "   1971  1972  1974   1978    1982    1985     1989     1993     1997  \\\n",
       "0  2250  2500  5000  29000  120000  275000  1180000  3100000  7500000   \n",
       "\n",
       "       1999      2000       2002       2003  \n",
       "0  24000000  42000000  220000000  410000000  "
      ]
     },
     "execution_count": 6,
     "metadata": {},
     "output_type": "execute_result"
    }
   ],
   "source": [
    "import pandas as pd\n",
    "\n",
    "year_transistor = {\n",
    "1971: 2250,\n",
    "1972: 2500,\n",
    "1974: 5000,\n",
    "1978: 29000,\n",
    "1982: 120000,\n",
    "1985: 275000,\n",
    "1989: 1180000,\n",
    "1993: 3100000,\n",
    "1997: 7500000,\n",
    "1999: 24000000,\n",
    "2000: 42000000,\n",
    "2002: 220000000,\n",
    "2003: 410000000\n",
    "}\n",
    "\n",
    "data = pd.DataFrame([year_transistor])\n",
    "data"
   ]
  },
  {
   "cell_type": "code",
   "execution_count": 7,
   "metadata": {
    "slideshow": {
     "slide_type": "slide"
    }
   },
   "outputs": [
    {
     "data": {
      "text/html": [
       "<div>\n",
       "<style scoped>\n",
       "    .dataframe tbody tr th:only-of-type {\n",
       "        vertical-align: middle;\n",
       "    }\n",
       "\n",
       "    .dataframe tbody tr th {\n",
       "        vertical-align: top;\n",
       "    }\n",
       "\n",
       "    .dataframe thead th {\n",
       "        text-align: right;\n",
       "    }\n",
       "</style>\n",
       "<table border=\"1\" class=\"dataframe\">\n",
       "  <thead>\n",
       "    <tr style=\"text-align: right;\">\n",
       "      <th></th>\n",
       "      <th>Year</th>\n",
       "      <th>N</th>\n",
       "    </tr>\n",
       "  </thead>\n",
       "  <tbody>\n",
       "    <tr>\n",
       "      <th>0</th>\n",
       "      <td>1971</td>\n",
       "      <td>2250</td>\n",
       "    </tr>\n",
       "    <tr>\n",
       "      <th>1</th>\n",
       "      <td>1972</td>\n",
       "      <td>2500</td>\n",
       "    </tr>\n",
       "    <tr>\n",
       "      <th>2</th>\n",
       "      <td>1974</td>\n",
       "      <td>5000</td>\n",
       "    </tr>\n",
       "    <tr>\n",
       "      <th>3</th>\n",
       "      <td>1978</td>\n",
       "      <td>29000</td>\n",
       "    </tr>\n",
       "    <tr>\n",
       "      <th>4</th>\n",
       "      <td>1982</td>\n",
       "      <td>120000</td>\n",
       "    </tr>\n",
       "    <tr>\n",
       "      <th>5</th>\n",
       "      <td>1985</td>\n",
       "      <td>275000</td>\n",
       "    </tr>\n",
       "    <tr>\n",
       "      <th>6</th>\n",
       "      <td>1989</td>\n",
       "      <td>1180000</td>\n",
       "    </tr>\n",
       "    <tr>\n",
       "      <th>7</th>\n",
       "      <td>1993</td>\n",
       "      <td>3100000</td>\n",
       "    </tr>\n",
       "    <tr>\n",
       "      <th>8</th>\n",
       "      <td>1997</td>\n",
       "      <td>7500000</td>\n",
       "    </tr>\n",
       "    <tr>\n",
       "      <th>9</th>\n",
       "      <td>1999</td>\n",
       "      <td>24000000</td>\n",
       "    </tr>\n",
       "    <tr>\n",
       "      <th>10</th>\n",
       "      <td>2000</td>\n",
       "      <td>42000000</td>\n",
       "    </tr>\n",
       "    <tr>\n",
       "      <th>11</th>\n",
       "      <td>2002</td>\n",
       "      <td>220000000</td>\n",
       "    </tr>\n",
       "    <tr>\n",
       "      <th>12</th>\n",
       "      <td>2003</td>\n",
       "      <td>410000000</td>\n",
       "    </tr>\n",
       "  </tbody>\n",
       "</table>\n",
       "</div>"
      ],
      "text/plain": [
       "    Year          N\n",
       "0   1971       2250\n",
       "1   1972       2500\n",
       "2   1974       5000\n",
       "3   1978      29000\n",
       "4   1982     120000\n",
       "5   1985     275000\n",
       "6   1989    1180000\n",
       "7   1993    3100000\n",
       "8   1997    7500000\n",
       "9   1999   24000000\n",
       "10  2000   42000000\n",
       "11  2002  220000000\n",
       "12  2003  410000000"
      ]
     },
     "execution_count": 7,
     "metadata": {},
     "output_type": "execute_result"
    }
   ],
   "source": [
    "data = pd.DataFrame(list(year_transistor.items()), columns=[\"Year\", \"N\"])\n",
    "data"
   ]
  },
  {
   "cell_type": "markdown",
   "metadata": {
    "slideshow": {
     "slide_type": "slide"
    }
   },
   "source": [
    "### Модель\n",
    "\n",
    "$$ \\log_{2} N \\approx  w_1 + w_2 (t - 1970)$$\n",
    "\n",
    "- Логарифмирование – очень полезный приём преобразования данных, масштабы которых сильно отличаются "
   ]
  },
  {
   "cell_type": "code",
   "execution_count": 8,
   "metadata": {
    "slideshow": {
     "slide_type": "fragment"
    }
   },
   "outputs": [
    {
     "name": "stdout",
     "output_type": "stream",
     "text": [
      "[[ 1.  1.]\n",
      " [ 1.  2.]\n",
      " [ 1.  4.]\n",
      " [ 1.  8.]\n",
      " [ 1. 12.]\n",
      " [ 1. 15.]\n",
      " [ 1. 19.]\n",
      " [ 1. 23.]\n",
      " [ 1. 27.]\n",
      " [ 1. 29.]\n",
      " [ 1. 30.]\n",
      " [ 1. 32.]\n",
      " [ 1. 33.]]\n",
      "0     11.135709\n",
      "1     11.287712\n",
      "2     12.287712\n",
      "3     14.823765\n",
      "4     16.872675\n",
      "5     18.069072\n",
      "6     20.170355\n",
      "7     21.563837\n",
      "8     22.838459\n",
      "9     24.516531\n",
      "10    25.323886\n",
      "11    27.712928\n",
      "12    28.611049\n",
      "Name: N, dtype: float64\n"
     ]
    }
   ],
   "source": [
    "y = np.log2(data[\"N\"])\n",
    "x = data[\"Year\"] - 1970\n",
    "X = np.ones((13, 2))\n",
    "X[:, 1] = x\n",
    "print(X)\n",
    "print(y)"
   ]
  },
  {
   "cell_type": "code",
   "execution_count": 10,
   "metadata": {
    "slideshow": {
     "slide_type": "slide"
    }
   },
   "outputs": [
    {
     "name": "stdout",
     "output_type": "stream",
     "text": [
      "2.4323270736375635\n",
      "[10.38299398  0.51163732]\n"
     ]
    }
   ],
   "source": [
    "w = np.linalg.lstsq(X, y, rcond=None)[0]\n",
    "print(np.linalg.norm(X @ w - y))\n",
    "print(w)"
   ]
  },
  {
   "cell_type": "code",
   "execution_count": 11,
   "metadata": {
    "slideshow": {
     "slide_type": "fragment"
    }
   },
   "outputs": [
    {
     "data": {
      "text/plain": [
       "Text(0, 0.5, '# transistors')"
      ]
     },
     "execution_count": 11,
     "metadata": {},
     "output_type": "execute_result"
    },
    {
     "data": {
      "image/png": "[encoded data removed]",
      "text/plain": [
       "<Figure size 432x288 with 1 Axes>"
      ]
     },
     "metadata": {
      "needs_background": "light"
     },
     "output_type": "display_data"
    }
   ],
   "source": [
    "plt.scatter(data[\"Year\"], y)\n",
    "plt.plot(data[\"Year\"], X @ w)\n",
    "plt.xlabel(\"Year\", fontsize=20)\n",
    "plt.ylabel(\"# transistors\", fontsize=20)"
   ]
  },
  {
   "cell_type": "markdown",
   "metadata": {
    "slideshow": {
     "slide_type": "slide"
    }
   },
   "source": [
    "### Предсказание на 2015 год\n",
    "\n",
    "- Микропроцессор IBM Z13 содержит $4 \\cdot 10^9$ транзисторов"
   ]
  },
  {
   "cell_type": "code",
   "execution_count": 14,
   "metadata": {
    "slideshow": {
     "slide_type": "fragment"
    }
   },
   "outputs": [
    {
     "name": "stdout",
     "output_type": "stream",
     "text": [
      "33.40667332708807\n",
      "31.897352853986263\n"
     ]
    }
   ],
   "source": [
    "year = 2015\n",
    "pred_given_year = w[0] + w[1]* (year - 1970)\n",
    "print(pred_given_year)\n",
    "print(np.log2(4e9))"
   ]
  },
  {
   "cell_type": "markdown",
   "metadata": {
    "slideshow": {
     "slide_type": "slide"
    }
   },
   "source": [
    "### Полиномиальная регрессия"
   ]
  },
  {
   "cell_type": "code",
   "execution_count": 15,
   "metadata": {
    "slideshow": {
     "slide_type": "slide"
    }
   },
   "outputs": [
    {
     "data": {
      "text/plain": [
       "<matplotlib.collections.PathCollection at 0x7fe4ec876d90>"
      ]
     },
     "execution_count": 15,
     "metadata": {},
     "output_type": "execute_result"
    },
    {
     "data": {
      "image/png": "[encoded data removed]",
      "text/plain": [
       "<Figure size 432x288 with 1 Axes>"
      ]
     },
     "metadata": {
      "needs_background": "light"
     },
     "output_type": "display_data"
    }
   ],
   "source": [
    "num_points = 10\n",
    "x = np.linspace(-2, 2, num=num_points)\n",
    "y = 5 - x - 10 * x**2 + x**3 + x**4\n",
    "y_noise = y + np.random.randn()\n",
    "plt.scatter(x, y_noise)"
   ]
  },
  {
   "cell_type": "code",
   "execution_count": 17,
   "metadata": {
    "slideshow": {
     "slide_type": "slide"
    }
   },
   "outputs": [
    {
     "name": "stdout",
     "output_type": "stream",
     "text": [
      "[[ 1.60000000e+01 -8.00000000e+00  4.00000000e+00 -2.00000000e+00\n",
      "   1.00000000e+00]\n",
      " [ 5.85520500e+00 -3.76406036e+00  2.41975309e+00 -1.55555556e+00\n",
      "   1.00000000e+00]\n",
      " [ 1.52415790e+00 -1.37174211e+00  1.23456790e+00 -1.11111111e+00\n",
      "   1.00000000e+00]\n",
      " [ 1.97530864e-01 -2.96296296e-01  4.44444444e-01 -6.66666667e-01\n",
      "   1.00000000e+00]\n",
      " [ 2.43865264e-03 -1.09739369e-02  4.93827160e-02 -2.22222222e-01\n",
      "   1.00000000e+00]\n",
      " [ 2.43865264e-03  1.09739369e-02  4.93827160e-02  2.22222222e-01\n",
      "   1.00000000e+00]\n",
      " [ 1.97530864e-01  2.96296296e-01  4.44444444e-01  6.66666667e-01\n",
      "   1.00000000e+00]\n",
      " [ 1.52415790e+00  1.37174211e+00  1.23456790e+00  1.11111111e+00\n",
      "   1.00000000e+00]\n",
      " [ 5.85520500e+00  3.76406036e+00  2.41975309e+00  1.55555556e+00\n",
      "   1.00000000e+00]\n",
      " [ 1.60000000e+01  8.00000000e+00  4.00000000e+00  2.00000000e+00\n",
      "   1.00000000e+00]]\n"
     ]
    }
   ],
   "source": [
    "deg = 4\n",
    "V = np.vander(x, deg+1)\n",
    "print(V)"
   ]
  },
  {
   "cell_type": "code",
   "execution_count": 18,
   "metadata": {
    "slideshow": {
     "slide_type": "slide"
    }
   },
   "outputs": [
    {
     "name": "stdout",
     "output_type": "stream",
     "text": [
      "[  1.           1.         -10.          -1.           4.98894777]\n",
      "0.04942706296274629\n"
     ]
    }
   ],
   "source": [
    "w = np.linalg.lstsq(V, y_noise, rcond=None)[0]\n",
    "print(w)\n",
    "x_test = np.linspace(-3, 3, num=20)\n",
    "y_pred = np.vander(x_test, deg+1) @ w\n",
    "y_test_true = 5 - x_test - 10 * x_test**2 + x_test**3 + x_test**4\n",
    "print(np.linalg.norm(y_pred - y_test_true))"
   ]
  },
  {
   "cell_type": "code",
   "execution_count": 19,
   "metadata": {
    "slideshow": {
     "slide_type": "slide"
    }
   },
   "outputs": [
    {
     "data": {
      "text/plain": [
       "<matplotlib.legend.Legend at 0x7fe4ec9699d0>"
      ]
     },
     "execution_count": 19,
     "metadata": {},
     "output_type": "execute_result"
    },
    {
     "data": {
      "image/png": "[encoded data removed]",
      "text/plain": [
       "<Figure size 576x432 with 1 Axes>"
      ]
     },
     "metadata": {
      "needs_background": "light"
     },
     "output_type": "display_data"
    }
   ],
   "source": [
    "plt.figure(figsize=(8, 6))\n",
    "plt.plot(x_test, y_pred, label=\"Predicted\")\n",
    "plt.plot(x, y_noise, label=\"Train\")\n",
    "plt.plot(x_test, y_test_true, label=\"Test\")\n",
    "plt.legend(fontsize=20)"
   ]
  },
  {
   "cell_type": "markdown",
   "metadata": {
    "slideshow": {
     "slide_type": "slide"
    }
   },
   "source": [
    "### Моделирование миграции населения\n",
    "\n",
    "- Пусть $x_t \\in \\mathbb{R}^{100}$ распределение населения по возрастам в год $t$\n",
    "- Динамика этого распределения описывается во времени как \n",
    "\n",
    "$$ x_{t+1} = Ax_t + u $$\n",
    "\n",
    "- Что такое $u$?\n",
    "- Какой вид имеет матрица $A$ ?"
   ]
  },
  {
   "cell_type": "markdown",
   "metadata": {
    "slideshow": {
     "slide_type": "fragment"
    }
   },
   "source": [
    "#### Определение миграционной политики\n",
    "\n",
    "- Дан вектор $x_1$, матрица $A$ и желаемое распределение $x_T = x_d$\n",
    "- Необходимо найти такой вектор $u$, чтобы желаемое распределение было достигнуто"
   ]
  },
  {
   "cell_type": "markdown",
   "metadata": {
    "slideshow": {
     "slide_type": "slide"
    }
   },
   "source": [
    "### Резюме\n",
    "\n",
    "- Решение задачи кластеризации как вычисление матричного разложения\n",
    "- Приложения задачи наименьших квадратов"
   ]
  }
 ],
 "metadata": {
  "celltoolbar": "Slideshow",
  "kernelspec": {
   "display_name": "Python 3",
   "language": "python",
   "name": "python3"
  },
  "language_info": {
   "codemirror_mode": {
    "name": "ipython",
    "version": 3
   },
   "file_extension": ".py",
   "mimetype": "text/x-python",
   "name": "python",
   "nbconvert_exporter": "python",
   "pygments_lexer": "ipython3",
   "version": "3.7.7"
  }
 },
 "nbformat": 4,
 "nbformat_minor": 2
}
